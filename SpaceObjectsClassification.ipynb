{
  "nbformat": 4,
  "nbformat_minor": 0,
  "metadata": {
    "colab": {
      "provenance": [],
      "authorship_tag": "ABX9TyMjsa/gVf5KfZNFsNMVP1CW",
      "include_colab_link": true
    },
    "kernelspec": {
      "name": "python3",
      "display_name": "Python 3"
    },
    "language_info": {
      "name": "python"
    }
  },
  "cells": [
    {
      "cell_type": "markdown",
      "metadata": {
        "id": "view-in-github",
        "colab_type": "text"
      },
      "source": [
        "<a href=\"https://colab.research.google.com/github/danielBrand12/space-objects-classification/blob/main/SpaceObjectsClassification.ipynb\" target=\"_parent\"><img src=\"https://colab.research.google.com/assets/colab-badge.svg\" alt=\"Open In Colab\"/></a>"
      ]
    },
    {
      "cell_type": "code",
      "execution_count": 2,
      "metadata": {
        "colab": {
          "base_uri": "https://localhost:8080/"
        },
        "id": "dXqeLkewcD94",
        "outputId": "70ca43b1-94d4-4273-92cb-bf9f60be05f7"
      },
      "outputs": [
        {
          "output_type": "stream",
          "name": "stdout",
          "text": [
            "Drive already mounted at /content/drive; to attempt to forcibly remount, call drive.mount(\"/content/drive\", force_remount=True).\n"
          ]
        }
      ],
      "source": [
        "from google.colab import drive\n",
        "drive.mount('/content/drive')"
      ]
    },
    {
      "cell_type": "code",
      "source": [
        "!ls \"/content/drive/MyDrive/Modelos 2\""
      ],
      "metadata": {
        "colab": {
          "base_uri": "https://localhost:8080/"
        },
        "id": "GXq0WSIQjm8w",
        "outputId": "23080edc-1228-414f-c12c-64be4aa25ed2"
      },
      "execution_count": 3,
      "outputs": [
        {
          "output_type": "stream",
          "name": "stdout",
          "text": [
            "star_classification.csv\n"
          ]
        }
      ]
    },
    {
      "cell_type": "markdown",
      "source": [
        "# Importamos las librerías necesarias"
      ],
      "metadata": {
        "id": "UqHORt3ZhsXy"
      }
    },
    {
      "cell_type": "code",
      "source": [
        "import pandas as pd\n",
        "import numpy as np\n",
        "import seaborn as sns\n",
        "from imblearn.over_sampling import SMOTE\n",
        "from collections import Counter\n",
        "import matplotlib.pyplot as plt\n",
        "from sklearn.preprocessing import StandardScaler\n",
        "from sklearn.discriminant_analysis import QuadraticDiscriminantAnalysis\n",
        "from sklearn.neighbors import KernelDensity\n",
        "from sklearn.ensemble import GradientBoostingClassifier\n",
        "from sklearn.neural_network import MLPClassifier\n",
        "from sklearn.svm import SVC\n",
        "from sklearn.model_selection import train_test_split\n",
        "from sklearn.metrics import accuracy_score\n",
        "from sklearn.metrics import precision_recall_fscore_support\n",
        "from sklearn.metrics import confusion_matrix\n",
        "from sklearn.feature_selection import SequentialFeatureSelector\n",
        "from sklearn.decomposition import PCA"
      ],
      "metadata": {
        "id": "K3Gxe5tYcJW6"
      },
      "execution_count": 4,
      "outputs": []
    },
    {
      "cell_type": "markdown",
      "source": [
        "# Análisis inicial del dataset"
      ],
      "metadata": {
        "id": "iAqxw0Bxh1zS"
      }
    },
    {
      "cell_type": "code",
      "source": [
        "data = pd.read_csv(\"/content/drive/MyDrive/Modelos 2/star_classification.csv\")\n",
        "data.rename(columns={'class': 'target'}, inplace=True)\n",
        "data[\"target\"].value_counts()"
      ],
      "metadata": {
        "colab": {
          "base_uri": "https://localhost:8080/"
        },
        "id": "3NQM7K3rjryO",
        "outputId": "a3f7c2e8-0b95-48fb-8ea1-b7f699ce0205"
      },
      "execution_count": 5,
      "outputs": [
        {
          "output_type": "execute_result",
          "data": {
            "text/plain": [
              "GALAXY    59445\n",
              "STAR      21594\n",
              "QSO       18961\n",
              "Name: target, dtype: int64"
            ]
          },
          "metadata": {},
          "execution_count": 5
        }
      ]
    },
    {
      "cell_type": "code",
      "source": [
        "counts = data['target'].value_counts()\n",
        "\n",
        "plt.bar(counts.index, counts.values, )\n",
        "plt.xlabel('Target')\n",
        "plt.ylabel('Count')\n",
        "plt.title('Number of records by class')\n",
        "plt.show()"
      ],
      "metadata": {
        "colab": {
          "base_uri": "https://localhost:8080/",
          "height": 472
        },
        "id": "dxxKdo8939tD",
        "outputId": "b5ca8709-1b22-4c56-b592-e4bf0d416e5d"
      },
      "execution_count": 36,
      "outputs": [
        {
          "output_type": "display_data",
          "data": {
            "text/plain": [
              "<Figure size 640x480 with 1 Axes>"
            ],
            "image/png": "[encoded data removed]"
          },
          "metadata": {}
        }
      ]
    },
    {
      "cell_type": "code",
      "source": [
        "data[\"target\"]=[0 if i == \"GALAXY\" else 1 if i == \"STAR\" else 2 for i in data[\"target\"]]"
      ],
      "metadata": {
        "id": "HxvtvB7cRjZc"
      },
      "execution_count": 6,
      "outputs": []
    },
    {
      "cell_type": "markdown",
      "source": [
        "# Selección de catacterísticas"
      ],
      "metadata": {
        "id": "AAy8QJWC5g4g"
      }
    },
    {
      "cell_type": "code",
      "source": [
        "data.info()"
      ],
      "metadata": {
        "colab": {
          "base_uri": "https://localhost:8080/"
        },
        "id": "f8vspzqsoHOT",
        "outputId": "90b338c0-58a4-482c-cdd9-b9cbfc40cfc7"
      },
      "execution_count": 7,
      "outputs": [
        {
          "output_type": "stream",
          "name": "stdout",
          "text": [
            "<class 'pandas.core.frame.DataFrame'>\n",
            "RangeIndex: 100000 entries, 0 to 99999\n",
            "Data columns (total 18 columns):\n",
            " #   Column       Non-Null Count   Dtype  \n",
            "---  ------       --------------   -----  \n",
            " 0   obj_ID       100000 non-null  float64\n",
            " 1   alpha        100000 non-null  float64\n",
            " 2   delta        100000 non-null  float64\n",
            " 3   u            100000 non-null  float64\n",
            " 4   g            100000 non-null  float64\n",
            " 5   r            100000 non-null  float64\n",
            " 6   i            100000 non-null  float64\n",
            " 7   z            100000 non-null  float64\n",
            " 8   run_ID       100000 non-null  int64  \n",
            " 9   rerun_ID     100000 non-null  int64  \n",
            " 10  cam_col      100000 non-null  int64  \n",
            " 11  field_ID     100000 non-null  int64  \n",
            " 12  spec_obj_ID  100000 non-null  float64\n",
            " 13  target       100000 non-null  int64  \n",
            " 14  redshift     100000 non-null  float64\n",
            " 15  plate        100000 non-null  int64  \n",
            " 16  MJD          100000 non-null  int64  \n",
            " 17  fiber_ID     100000 non-null  int64  \n",
            "dtypes: float64(10), int64(8)\n",
            "memory usage: 13.7 MB\n"
          ]
        }
      ]
    },
    {
      "cell_type": "code",
      "source": [
        "data = data.drop([\"obj_ID\", \"run_ID\", \"rerun_ID\", \"cam_col\", \"field_ID\", \"spec_obj_ID\", \"plate\", \"MJD\", \"fiber_ID\"], axis=1)"
      ],
      "metadata": {
        "id": "0qU2xAFm5yeQ"
      },
      "execution_count": 8,
      "outputs": []
    },
    {
      "cell_type": "code",
      "source": [
        "# Compute the correlation matrix\n",
        "corr_matrix = data.corr()\n",
        "plt.figure(figsize=(10, 8))\n",
        "# Plot the correlation matrix\n",
        "sns.heatmap(corr_matrix, annot=True, cmap='coolwarm', center=0)\n",
        "\n",
        "plt.title(\"Correlation Matrix\")\n",
        "plt.show()"
      ],
      "metadata": {
        "colab": {
          "base_uri": "https://localhost:8080/",
          "height": 699
        },
        "id": "O4tVVFenl32R",
        "outputId": "27099347-7a62-45b4-b9a1-59f28bc756e7"
      },
      "execution_count": 9,
      "outputs": [
        {
          "output_type": "display_data",
          "data": {
            "text/plain": [
              "<Figure size 1000x800 with 2 Axes>"
            ],
            "image/png": "[encoded data removed]"
          },
          "metadata": {}
        }
      ]
    },
    {
      "cell_type": "code",
      "source": [
        "corr_matrix[\"target\"].sort_values()"
      ],
      "metadata": {
        "colab": {
          "base_uri": "https://localhost:8080/"
        },
        "id": "O-u-sUEl58-y",
        "outputId": "811c7a03-42e9-4bb6-d447-e77184f91e7f"
      },
      "execution_count": 10,
      "outputs": [
        {
          "output_type": "execute_result",
          "data": {
            "text/plain": [
              "u          -0.017701\n",
              "g          -0.005915\n",
              "alpha       0.004552\n",
              "z           0.017352\n",
              "delta       0.056643\n",
              "r           0.150691\n",
              "i           0.284396\n",
              "redshift    0.536822\n",
              "target      1.000000\n",
              "Name: target, dtype: float64"
            ]
          },
          "metadata": {},
          "execution_count": 10
        }
      ]
    },
    {
      "cell_type": "code",
      "source": [
        "import statsmodels.api as sm\n",
        "from statsmodels.formula.api import ols\n",
        "\n",
        "formula = 'target ~ u + g + r + i + z + redshift + alpha + delta'\n",
        "\n",
        "model = ols(formula, data=data).fit()\n",
        "\n",
        "table = sm.stats.anova_lm(model, typ=2)\n",
        "table"
      ],
      "metadata": {
        "colab": {
          "base_uri": "https://localhost:8080/",
          "height": 332
        },
        "id": "twsbQs8qiVsU",
        "outputId": "724b5afe-d397-4144-8420-a6fd43af9d45"
      },
      "execution_count": 39,
      "outputs": [
        {
          "output_type": "execute_result",
          "data": {
            "text/plain": [
              "                sum_sq       df             F         PR(>F)\n",
              "u           391.644980      1.0   1349.813905  1.555206e-293\n",
              "g          1668.033556      1.0   5748.918031   0.000000e+00\n",
              "r            40.141624      1.0    138.349078   6.416682e-32\n",
              "i            85.601839      1.0    295.028810   4.963892e-66\n",
              "z          4901.048175      1.0  16891.581182   0.000000e+00\n",
              "redshift   6959.667424      1.0  23986.662256   0.000000e+00\n",
              "alpha         3.600199      1.0     12.408172   4.276495e-04\n",
              "delta        90.045714      1.0    310.344732   2.339721e-69\n",
              "Residual  29012.127570  99991.0           NaN            NaN"
            ],
            "text/html": [
              "\n",
              "  <div id=\"df-48419d8c-4ac6-4c61-a6c7-daeffc9734cc\">\n",
              "    <div class=\"colab-df-container\">\n",
              "      <div>\n",
              "<style scoped>\n",
              "    .dataframe tbody tr th:only-of-type {\n",
              "        vertical-align: middle;\n",
              "    }\n",
              "\n",
              "    .dataframe tbody tr th {\n",
              "        vertical-align: top;\n",
              "    }\n",
              "\n",
              "    .dataframe thead th {\n",
              "        text-align: right;\n",
              "    }\n",
              "</style>\n",
              "<table border=\"1\" class=\"dataframe\">\n",
              "  <thead>\n",
              "    <tr style=\"text-align: right;\">\n",
              "      <th></th>\n",
              "      <th>sum_sq</th>\n",
              "      <th>df</th>\n",
              "      <th>F</th>\n",
              "      <th>PR(&gt;F)</th>\n",
              "    </tr>\n",
              "  </thead>\n",
              "  <tbody>\n",
              "    <tr>\n",
              "      <th>u</th>\n",
              "      <td>391.644980</td>\n",
              "      <td>1.0</td>\n",
              "      <td>1349.813905</td>\n",
              "      <td>1.555206e-293</td>\n",
              "    </tr>\n",
              "    <tr>\n",
              "      <th>g</th>\n",
              "      <td>1668.033556</td>\n",
              "      <td>1.0</td>\n",
              "      <td>5748.918031</td>\n",
              "      <td>0.000000e+00</td>\n",
              "    </tr>\n",
              "    <tr>\n",
              "      <th>r</th>\n",
              "      <td>40.141624</td>\n",
              "      <td>1.0</td>\n",
              "      <td>138.349078</td>\n",
              "      <td>6.416682e-32</td>\n",
              "    </tr>\n",
              "    <tr>\n",
              "      <th>i</th>\n",
              "      <td>85.601839</td>\n",
              "      <td>1.0</td>\n",
              "      <td>295.028810</td>\n",
              "      <td>4.963892e-66</td>\n",
              "    </tr>\n",
              "    <tr>\n",
              "      <th>z</th>\n",
              "      <td>4901.048175</td>\n",
              "      <td>1.0</td>\n",
              "      <td>16891.581182</td>\n",
              "      <td>0.000000e+00</td>\n",
              "    </tr>\n",
              "    <tr>\n",
              "      <th>redshift</th>\n",
              "      <td>6959.667424</td>\n",
              "      <td>1.0</td>\n",
              "      <td>23986.662256</td>\n",
              "      <td>0.000000e+00</td>\n",
              "    </tr>\n",
              "    <tr>\n",
              "      <th>alpha</th>\n",
              "      <td>3.600199</td>\n",
              "      <td>1.0</td>\n",
              "      <td>12.408172</td>\n",
              "      <td>4.276495e-04</td>\n",
              "    </tr>\n",
              "    <tr>\n",
              "      <th>delta</th>\n",
              "      <td>90.045714</td>\n",
              "      <td>1.0</td>\n",
              "      <td>310.344732</td>\n",
              "      <td>2.339721e-69</td>\n",
              "    </tr>\n",
              "    <tr>\n",
              "      <th>Residual</th>\n",
              "      <td>29012.127570</td>\n",
              "      <td>99991.0</td>\n",
              "      <td>NaN</td>\n",
              "      <td>NaN</td>\n",
              "    </tr>\n",
              "  </tbody>\n",
              "</table>\n",
              "</div>\n",
              "      <button class=\"colab-df-convert\" onclick=\"convertToInteractive('df-48419d8c-4ac6-4c61-a6c7-daeffc9734cc')\"\n",
              "              title=\"Convert this dataframe to an interactive table.\"\n",
              "              style=\"display:none;\">\n",
              "        \n",
              "  <svg xmlns=\"http://www.w3.org/2000/svg\" height=\"24px\"viewBox=\"0 0 24 24\"\n",
              "       width=\"24px\">\n",
              "    <path d=\"M0 0h24v24H0V0z\" fill=\"none\"/>\n",
              "    <path d=\"M18.56 5.44l.94 2.06.94-2.06 2.06-.94-2.06-.94-.94-2.06-.94 2.06-2.06.94zm-11 1L8.5 8.5l.94-2.06 2.06-.94-2.06-.94L8.5 2.5l-.94 2.06-2.06.94zm10 10l.94 2.06.94-2.06 2.06-.94-2.06-.94-.94-2.06-.94 2.06-2.06.94z\"/><path d=\"M17.41 7.96l-1.37-1.37c-.4-.4-.92-.59-1.43-.59-.52 0-1.04.2-1.43.59L10.3 9.45l-7.72 7.72c-.78.78-.78 2.05 0 2.83L4 21.41c.39.39.9.59 1.41.59.51 0 1.02-.2 1.41-.59l7.78-7.78 2.81-2.81c.8-.78.8-2.07 0-2.86zM5.41 20L4 18.59l7.72-7.72 1.47 1.35L5.41 20z\"/>\n",
              "  </svg>\n",
              "      </button>\n",
              "      \n",
              "  <style>\n",
              "    .colab-df-container {\n",
              "      display:flex;\n",
              "      flex-wrap:wrap;\n",
              "      gap: 12px;\n",
              "    }\n",
              "\n",
              "    .colab-df-convert {\n",
              "      background-color: #E8F0FE;\n",
              "      border: none;\n",
              "      border-radius: 50%;\n",
              "      cursor: pointer;\n",
              "      display: none;\n",
              "      fill: #1967D2;\n",
              "      height: 32px;\n",
              "      padding: 0 0 0 0;\n",
              "      width: 32px;\n",
              "    }\n",
              "\n",
              "    .colab-df-convert:hover {\n",
              "      background-color: #E2EBFA;\n",
              "      box-shadow: 0px 1px 2px rgba(60, 64, 67, 0.3), 0px 1px 3px 1px rgba(60, 64, 67, 0.15);\n",
              "      fill: #174EA6;\n",
              "    }\n",
              "\n",
              "    [theme=dark] .colab-df-convert {\n",
              "      background-color: #3B4455;\n",
              "      fill: #D2E3FC;\n",
              "    }\n",
              "\n",
              "    [theme=dark] .colab-df-convert:hover {\n",
              "      background-color: #434B5C;\n",
              "      box-shadow: 0px 1px 3px 1px rgba(0, 0, 0, 0.15);\n",
              "      filter: drop-shadow(0px 1px 2px rgba(0, 0, 0, 0.3));\n",
              "      fill: #FFFFFF;\n",
              "    }\n",
              "  </style>\n",
              "\n",
              "      <script>\n",
              "        const buttonEl =\n",
              "          document.querySelector('#df-48419d8c-4ac6-4c61-a6c7-daeffc9734cc button.colab-df-convert');\n",
              "        buttonEl.style.display =\n",
              "          google.colab.kernel.accessAllowed ? 'block' : 'none';\n",
              "\n",
              "        async function convertToInteractive(key) {\n",
              "          const element = document.querySelector('#df-48419d8c-4ac6-4c61-a6c7-daeffc9734cc');\n",
              "          const dataTable =\n",
              "            await google.colab.kernel.invokeFunction('convertToInteractive',\n",
              "                                                     [key], {});\n",
              "          if (!dataTable) return;\n",
              "\n",
              "          const docLinkHtml = 'Like what you see? Visit the ' +\n",
              "            '<a target=\"_blank\" href=https://colab.research.google.com/notebooks/data_table.ipynb>data table notebook</a>'\n",
              "            + ' to learn more about interactive tables.';\n",
              "          element.innerHTML = '';\n",
              "          dataTable['output_type'] = 'display_data';\n",
              "          await google.colab.output.renderOutput(dataTable, element);\n",
              "          const docLink = document.createElement('div');\n",
              "          docLink.innerHTML = docLinkHtml;\n",
              "          element.appendChild(docLink);\n",
              "        }\n",
              "      </script>\n",
              "    </div>\n",
              "  </div>\n",
              "  "
            ]
          },
          "metadata": {},
          "execution_count": 39
        }
      ]
    },
    {
      "cell_type": "markdown",
      "source": [
        "# Imbalanced Data\n",
        "# SMOTE (Synthetic Minority Over-sampling Technique) \n",
        "SMOTE es una técnica de sobremuestreo que se utiliza para tratar el desequilibrio de clases en conjuntos de datos. Esta técnica genera muestras sintéticas para la clase minoritaria en función de sus vecinos más cercanos en el espacio de características. Básicamente, SMOTE toma una muestra de la clase minoritaria y genera nuevas muestras sintéticas interpolando entre la muestra original y sus vecinos más cercanos.\n",
        "\n",
        "La idea detrás de SMOTE es que, en lugar de simplemente duplicar las muestras existentes en la clase minoritaria, es mejor crear nuevas muestras sintéticas que sean lo suficientemente diferentes como para mejorar la generalización del modelo. De esta manera, se puede aumentar la cantidad de datos de la clase minoritaria sin crear redundancias en los datos de entrenamiento.\n",
        "\n",
        "N. V. Chawla, K. W. Bowyer, L. O. Hall, y W. P. Kegelmeyer, \"SMOTE: Synthetic Minority Over-sampling Technique,\" Journal of Artificial Intelligence Research, vol. 16, pp. 321-357, 2002."
      ],
      "metadata": {
        "id": "Symm7vVx8xYK"
      }
    },
    {
      "cell_type": "code",
      "source": [
        "x = data.drop(['target'], axis = 1)\n",
        "y = data.loc[:,'target'].values\n",
        "sm = SMOTE(random_state=42)\n",
        "print('Original dataset shape %s' % Counter(y))\n",
        "x, y = sm.fit_resample(x, y)\n",
        "print('Resampled dataset shape %s' % Counter(y))"
      ],
      "metadata": {
        "colab": {
          "base_uri": "https://localhost:8080/"
        },
        "id": "wlR-Zvxu8zLa",
        "outputId": "c4eb3587-e465-4927-c0d9-f9aaee36360a"
      },
      "execution_count": 40,
      "outputs": [
        {
          "output_type": "stream",
          "name": "stdout",
          "text": [
            "Original dataset shape Counter({0: 59445, 1: 21594, 2: 18961})\n",
            "Resampled dataset shape Counter({0: 59445, 2: 59445, 1: 59445})\n"
          ]
        }
      ]
    },
    {
      "cell_type": "code",
      "source": [
        "# class1_data = data[data['target'] == 0]\n",
        "# class2_data = data[data['target'] == 1]\n",
        "# class3_data = data[data['target'] == 2]\n",
        "\n",
        "# class1_sample = class1_data.sample(n=10000, random_state=42)\n",
        "# class2_sample = class2_data.sample(n=10000, random_state=42)\n",
        "# class3_sample = class3_data.sample(n=10000, random_state=42)\n",
        "\n",
        "# reduced_data = pd.concat([class1_sample, class2_sample, class3_sample], axis=0)\n",
        "# reduced_data = reduced_data.sample(frac=1, random_state=42).reset_index(drop=True)\n",
        "\n",
        "# x = reduced_data.drop(['target'], axis = 1)\n",
        "# y = reduced_data.loc[:,'target'].values"
      ],
      "metadata": {
        "id": "o-ThecXq9ywE"
      },
      "execution_count": 26,
      "outputs": []
    },
    {
      "cell_type": "code",
      "source": [
        "counts = np.unique(y, return_counts=True)\n",
        "plt.bar(counts[0], counts[1], )\n",
        "plt.xlabel('Target')\n",
        "plt.ylabel('Count')\n",
        "plt.title('Number of records by class')\n",
        "plt.show()"
      ],
      "metadata": {
        "colab": {
          "base_uri": "https://localhost:8080/",
          "height": 472
        },
        "id": "3ntzbIxN83jH",
        "outputId": "0fb8c31a-7236-4aba-c4d2-0894ab4f90da"
      },
      "execution_count": 41,
      "outputs": [
        {
          "output_type": "display_data",
          "data": {
            "text/plain": [
              "<Figure size 640x480 with 1 Axes>"
            ],
            "image/png": "[encoded data removed]"
          },
          "metadata": {}
        }
      ]
    },
    {
      "cell_type": "markdown",
      "source": [
        "# Scale and Split data\n"
      ],
      "metadata": {
        "id": "YN4066Zrc95j"
      }
    },
    {
      "cell_type": "code",
      "source": [
        "scaler = StandardScaler()\n",
        "scaler.fit(x)\n",
        "x = scaler.transform(x)"
      ],
      "metadata": {
        "id": "ivi5gK-t93E8"
      },
      "execution_count": 28,
      "outputs": []
    },
    {
      "cell_type": "code",
      "source": [
        "x_train, x_test, y_train, y_test = train_test_split(x, y, test_size = 0.33, random_state = 42)"
      ],
      "metadata": {
        "id": "9eJxZ1oD-C5Q"
      },
      "execution_count": 29,
      "outputs": []
    },
    {
      "cell_type": "markdown",
      "source": [
        "# Train Models\n"
      ],
      "metadata": {
        "id": "R4YGO2qvdC2N"
      }
    },
    {
      "cell_type": "code",
      "source": [
        "qda = QuadraticDiscriminantAnalysis()\n",
        "qda.fit(x_train, y_train)\n",
        "\n",
        "predicted = qda.predict(x_test)\n",
        "accuracy = accuracy_score(y_test, predicted)\n",
        "precision, recall, f1score, _ = precision_recall_fscore_support(y_test, predicted, average='weighted')\n",
        "conf_matrix = confusion_matrix(y_test, predicted)\n",
        "print(\"Accuracy:\", accuracy)\n",
        "print(\"Precision:\", precision)\n",
        "print(\"Recall:\", recall)\n",
        "print(\"F1 Score:\", f1score)\n",
        "print(\"Confusion Matrix:\")\n",
        "print(conf_matrix)\n"
      ],
      "metadata": {
        "colab": {
          "base_uri": "https://localhost:8080/"
        },
        "id": "9CE3_y6AUD62",
        "outputId": "1597fe30-5e3b-4dae-b851-9b538d0cab1a"
      },
      "execution_count": 31,
      "outputs": [
        {
          "output_type": "stream",
          "name": "stdout",
          "text": [
            "Accuracy: 0.9491919191919191\n",
            "Precision: 0.9492137692017599\n",
            "Recall: 0.9491919191919191\n",
            "F1 Score: 0.9491793863497239\n",
            "Confusion Matrix:\n",
            "[[3046   27  234]\n",
            " [   3 3288   22]\n",
            " [ 216    1 3063]]\n"
          ]
        }
      ]
    },
    {
      "cell_type": "code",
      "source": [
        "kde = KernelDensity(kernel='gaussian', bandwidth=0.2) \n",
        "kde.fit(x_train)\n",
        "\n",
        "predicted = kde.score_samples(x_test)\n",
        "predicted = (predicted > 0.5).astype(int) # Convertimos las probabilidades en etiquetas binarias\n",
        "accuracy = accuracy_score(y_test, predicted)\n",
        "precision, recall, f1score, _ = precision_recall_fscore_support(y_test, predicted, average='weighted')\n",
        "conf_matrix = confusion_matrix(y_test, predicted)\n",
        "print(\"Accuracy:\", accuracy)\n",
        "print(\"Precision:\", precision)\n",
        "print(\"Recall:\", recall)\n",
        "print(\"F1 Score:\", f1score)\n",
        "print(\"Confusion Matrix:\")\n",
        "print(conf_matrix)"
      ],
      "metadata": {
        "colab": {
          "base_uri": "https://localhost:8080/"
        },
        "id": "c7IkqKOpULvu",
        "outputId": "9d2879b6-16de-46bc-fb43-4e7f1874a353"
      },
      "execution_count": 19,
      "outputs": [
        {
          "output_type": "stream",
          "name": "stdout",
          "text": [
            "KDE Accuracy : 0.266\n"
          ]
        }
      ]
    },
    {
      "cell_type": "code",
      "source": [
        "gbt = GradientBoostingClassifier(n_estimators=100, learning_rate=0.1, max_depth=3) \n",
        "\n",
        "#------------------------------------\n",
        "#Forward Selection\n",
        "sfs = SequentialFeatureSelector(gbt, scoring='accuracy', cv=5)\n",
        "\n",
        "sfs.fit(x_train, y_train)\n",
        "\n",
        "print(\"Características seleccionadas:\", sfs.get_support())\n",
        "\n",
        "x_train_forward = sfs.transform(x_train)\n",
        "x_test_forward = sfs.transform(x_test)\n",
        "\n",
        "gbt.fit(x_train_forward, y_train)\n",
        "\n",
        "predicted_fwd = gbt.predict(x_test_forward)\n",
        "accuracy_fwd = accuracy_score(y_test, predicted_fwd)\n",
        "precision_fwd, recall_fwd, f1score_fwd, _ = precision_recall_fscore_support(y_test, predicted_fwd, average='weighted')\n",
        "conf_matrix_fwd = confusion_matrix(y_test, predicted_fwd)\n",
        "# print(\"Accuracy_fwd:\", accuracy_fwd)\n",
        "# print(\"Precision_fwd:\", precision_fwd)\n",
        "# print(\"Recall_fwd:\", recall_fwd)\n",
        "# print(\"F1 Score_fwd:\", f1score_fwd)\n",
        "print(\"Confusion Matrix FWD:\")\n",
        "print(conf_matrix_fwd)\n",
        "\n",
        "#------------------------------------\n",
        "#PCA\n",
        "pca = PCA(n_components=6)\n",
        "pca.fit(x)\n",
        "x_train_PCA = pca.transform(x_train)\n",
        "x_test_PCA = pca.transform(x_test)\n",
        "gbt.fit(x_train_PCA, y_train)\n",
        "\n",
        "predicted_PCA = gbt.predict(x_test_PCA)\n",
        "accuracy_PCA = accuracy_score(y_test, predicted_PCA)\n",
        "precision_PCA, recall_PCA, f1score_PCA, _ = precision_recall_fscore_support(y_test, predicted_PCA, average='weighted')\n",
        "conf_matrix_PCA = confusion_matrix(y_test, predicted_PCA)\n",
        "# print(\"Accuracy_pca:\", accuracy_PCA)\n",
        "# print(\"Precision_pca:\", precision_PCA)\n",
        "# print(\"Recall_pca:\", recall_PCA)\n",
        "# print(\"F1 Score_pca:\", f1score_PCA)\n",
        "print(\"Confusion Matrix PCA:\")\n",
        "print(conf_matrix_PCA)\n",
        "\n",
        "#------------------------------------\n",
        "#Custom\n",
        "print(\"\")\n",
        "print(\"Custom\")\n",
        "print(\"\")\n",
        "gbt.fit(x_train, y_train)\n",
        "predicted = gbt.predict(x_test)\n",
        "accuracy = accuracy_score(y_test, predicted)\n",
        "precision, recall, f1score, _ = precision_recall_fscore_support(y_test, predicted, average='weighted')\n",
        "conf_matrix = confusion_matrix(y_test, predicted)\n",
        "# print(\"Accuracy:\", accuracy)\n",
        "# print(\"Precision:\", precision)\n",
        "# print(\"Recall:\", recall)\n",
        "# print(\"F1 Score:\", f1score)\n",
        "print(\"Confusion Matrix:\")\n",
        "print(conf_matrix)\n",
        "\n",
        "# -----------------------------------\n",
        "\n",
        "metrics = {\n",
        "    'ModeloGBT': [1, 2, 3],\n",
        "    'Selección de características': ['Forward selection', 'PCA', 'Custom'],\n",
        "    'Accuracy': [accuracy_fwd, accuracy_PCA, accuracy],\n",
        "    'Precision': [precision_fwd, precision_PCA, precision],\n",
        "    'Recall': [recall_fwd, recall_PCA, recall],\n",
        "    'F1-score': [f1score_fwd, f1score_PCA, f1score]\n",
        "}\n",
        "\n",
        "df = pd.DataFrame(metrics, columns=['ModeloGBT', 'Selección de características', 'Accuracy', 'Precision', 'Recall', 'F1-score'])\n",
        "\n",
        "print(df)"
      ],
      "metadata": {
        "colab": {
          "base_uri": "https://localhost:8080/"
        },
        "id": "EtVFK_foUU6p",
        "outputId": "1284f7b8-18f8-471a-e325-503919da1f09"
      },
      "execution_count": 32,
      "outputs": [
        {
          "output_type": "stream",
          "name": "stderr",
          "text": [
            "/usr/local/lib/python3.10/dist-packages/sklearn/feature_selection/_sequential.py:211: FutureWarning: Leaving `n_features_to_select` to None is deprecated in 1.0 and will become 'auto' in 1.3. To keep the same behaviour as with None (i.e. select half of the features) and avoid this warning, you should manually set `n_features_to_select='auto'` and set tol=None when creating an instance.\n",
            "  warnings.warn(\n"
          ]
        },
        {
          "output_type": "stream",
          "name": "stdout",
          "text": [
            "Características seleccionadas: [False False  True  True False  True False  True]\n",
            "Confusion Matrix FWD:\n",
            "[[3203   13   91]\n",
            " [   3 3310    0]\n",
            " [ 200    1 3079]]\n",
            "Confusion Matrix PCA:\n",
            "[[2988  234   85]\n",
            " [ 131 3180    2]\n",
            " [ 229   28 3023]]\n",
            "\n",
            "Custom\n",
            "\n",
            "Confusion Matrix:\n",
            "[[3207   10   90]\n",
            " [   2 3311    0]\n",
            " [ 202    1 3077]]\n",
            "   ModeloGBT Selección de características  Accuracy  Precision    Recall  \\\n",
            "0          1            Forward selection  0.968889   0.969171  0.968889   \n",
            "1          2                          PCA  0.928384   0.929341  0.928384   \n",
            "2          3                       Custom  0.969192   0.969499  0.969192   \n",
            "\n",
            "   F1-score  \n",
            "0  0.968867  \n",
            "1  0.928514  \n",
            "2  0.969171  \n"
          ]
        }
      ]
    },
    {
      "cell_type": "code",
      "source": [
        "df"
      ],
      "metadata": {
        "colab": {
          "base_uri": "https://localhost:8080/",
          "height": 143
        },
        "id": "PFJ3t1bMKlKz",
        "outputId": "6189bc8d-592c-4c51-c895-fc87ba369a71"
      },
      "execution_count": 33,
      "outputs": [
        {
          "output_type": "execute_result",
          "data": {
            "text/plain": [
              "   ModeloGBT Selección de características  Accuracy  Precision    Recall  \\\n",
              "0          1            Forward selection  0.968889   0.969171  0.968889   \n",
              "1          2                          PCA  0.928384   0.929341  0.928384   \n",
              "2          3                       Custom  0.969192   0.969499  0.969192   \n",
              "\n",
              "   F1-score  \n",
              "0  0.968867  \n",
              "1  0.928514  \n",
              "2  0.969171  "
            ],
            "text/html": [
              "\n",
              "  <div id=\"df-619d8418-49ee-49bd-ab08-130643df9eb6\">\n",
              "    <div class=\"colab-df-container\">\n",
              "      <div>\n",
              "<style scoped>\n",
              "    .dataframe tbody tr th:only-of-type {\n",
              "        vertical-align: middle;\n",
              "    }\n",
              "\n",
              "    .dataframe tbody tr th {\n",
              "        vertical-align: top;\n",
              "    }\n",
              "\n",
              "    .dataframe thead th {\n",
              "        text-align: right;\n",
              "    }\n",
              "</style>\n",
              "<table border=\"1\" class=\"dataframe\">\n",
              "  <thead>\n",
              "    <tr style=\"text-align: right;\">\n",
              "      <th></th>\n",
              "      <th>ModeloGBT</th>\n",
              "      <th>Selección de características</th>\n",
              "      <th>Accuracy</th>\n",
              "      <th>Precision</th>\n",
              "      <th>Recall</th>\n",
              "      <th>F1-score</th>\n",
              "    </tr>\n",
              "  </thead>\n",
              "  <tbody>\n",
              "    <tr>\n",
              "      <th>0</th>\n",
              "      <td>1</td>\n",
              "      <td>Forward selection</td>\n",
              "      <td>0.968889</td>\n",
              "      <td>0.969171</td>\n",
              "      <td>0.968889</td>\n",
              "      <td>0.968867</td>\n",
              "    </tr>\n",
              "    <tr>\n",
              "      <th>1</th>\n",
              "      <td>2</td>\n",
              "      <td>PCA</td>\n",
              "      <td>0.928384</td>\n",
              "      <td>0.929341</td>\n",
              "      <td>0.928384</td>\n",
              "      <td>0.928514</td>\n",
              "    </tr>\n",
              "    <tr>\n",
              "      <th>2</th>\n",
              "      <td>3</td>\n",
              "      <td>Custom</td>\n",
              "      <td>0.969192</td>\n",
              "      <td>0.969499</td>\n",
              "      <td>0.969192</td>\n",
              "      <td>0.969171</td>\n",
              "    </tr>\n",
              "  </tbody>\n",
              "</table>\n",
              "</div>\n",
              "      <button class=\"colab-df-convert\" onclick=\"convertToInteractive('df-619d8418-49ee-49bd-ab08-130643df9eb6')\"\n",
              "              title=\"Convert this dataframe to an interactive table.\"\n",
              "              style=\"display:none;\">\n",
              "        \n",
              "  <svg xmlns=\"http://www.w3.org/2000/svg\" height=\"24px\"viewBox=\"0 0 24 24\"\n",
              "       width=\"24px\">\n",
              "    <path d=\"M0 0h24v24H0V0z\" fill=\"none\"/>\n",
              "    <path d=\"M18.56 5.44l.94 2.06.94-2.06 2.06-.94-2.06-.94-.94-2.06-.94 2.06-2.06.94zm-11 1L8.5 8.5l.94-2.06 2.06-.94-2.06-.94L8.5 2.5l-.94 2.06-2.06.94zm10 10l.94 2.06.94-2.06 2.06-.94-2.06-.94-.94-2.06-.94 2.06-2.06.94z\"/><path d=\"M17.41 7.96l-1.37-1.37c-.4-.4-.92-.59-1.43-.59-.52 0-1.04.2-1.43.59L10.3 9.45l-7.72 7.72c-.78.78-.78 2.05 0 2.83L4 21.41c.39.39.9.59 1.41.59.51 0 1.02-.2 1.41-.59l7.78-7.78 2.81-2.81c.8-.78.8-2.07 0-2.86zM5.41 20L4 18.59l7.72-7.72 1.47 1.35L5.41 20z\"/>\n",
              "  </svg>\n",
              "      </button>\n",
              "      \n",
              "  <style>\n",
              "    .colab-df-container {\n",
              "      display:flex;\n",
              "      flex-wrap:wrap;\n",
              "      gap: 12px;\n",
              "    }\n",
              "\n",
              "    .colab-df-convert {\n",
              "      background-color: #E8F0FE;\n",
              "      border: none;\n",
              "      border-radius: 50%;\n",
              "      cursor: pointer;\n",
              "      display: none;\n",
              "      fill: #1967D2;\n",
              "      height: 32px;\n",
              "      padding: 0 0 0 0;\n",
              "      width: 32px;\n",
              "    }\n",
              "\n",
              "    .colab-df-convert:hover {\n",
              "      background-color: #E2EBFA;\n",
              "      box-shadow: 0px 1px 2px rgba(60, 64, 67, 0.3), 0px 1px 3px 1px rgba(60, 64, 67, 0.15);\n",
              "      fill: #174EA6;\n",
              "    }\n",
              "\n",
              "    [theme=dark] .colab-df-convert {\n",
              "      background-color: #3B4455;\n",
              "      fill: #D2E3FC;\n",
              "    }\n",
              "\n",
              "    [theme=dark] .colab-df-convert:hover {\n",
              "      background-color: #434B5C;\n",
              "      box-shadow: 0px 1px 3px 1px rgba(0, 0, 0, 0.15);\n",
              "      filter: drop-shadow(0px 1px 2px rgba(0, 0, 0, 0.3));\n",
              "      fill: #FFFFFF;\n",
              "    }\n",
              "  </style>\n",
              "\n",
              "      <script>\n",
              "        const buttonEl =\n",
              "          document.querySelector('#df-619d8418-49ee-49bd-ab08-130643df9eb6 button.colab-df-convert');\n",
              "        buttonEl.style.display =\n",
              "          google.colab.kernel.accessAllowed ? 'block' : 'none';\n",
              "\n",
              "        async function convertToInteractive(key) {\n",
              "          const element = document.querySelector('#df-619d8418-49ee-49bd-ab08-130643df9eb6');\n",
              "          const dataTable =\n",
              "            await google.colab.kernel.invokeFunction('convertToInteractive',\n",
              "                                                     [key], {});\n",
              "          if (!dataTable) return;\n",
              "\n",
              "          const docLinkHtml = 'Like what you see? Visit the ' +\n",
              "            '<a target=\"_blank\" href=https://colab.research.google.com/notebooks/data_table.ipynb>data table notebook</a>'\n",
              "            + ' to learn more about interactive tables.';\n",
              "          element.innerHTML = '';\n",
              "          dataTable['output_type'] = 'display_data';\n",
              "          await google.colab.output.renderOutput(dataTable, element);\n",
              "          const docLink = document.createElement('div');\n",
              "          docLink.innerHTML = docLinkHtml;\n",
              "          element.appendChild(docLink);\n",
              "        }\n",
              "      </script>\n",
              "    </div>\n",
              "  </div>\n",
              "  "
            ]
          },
          "metadata": {},
          "execution_count": 33
        }
      ]
    },
    {
      "cell_type": "code",
      "source": [
        "mlp = MLPClassifier(hidden_layer_sizes=(10, 10), activation='relu', solver='adam') \n",
        "\n",
        "#------------------------------------\n",
        "#Forward Selection\n",
        "sfs = SequentialFeatureSelector(mlp, scoring='accuracy', cv=5)\n",
        "\n",
        "sfs.fit(x_train, y_train)\n",
        "\n",
        "print(\"Características seleccionadas:\", sfs.get_support())\n",
        "\n",
        "x_train_forward = sfs.transform(x_train)\n",
        "x_test_forward = sfs.transform(x_test)\n",
        "\n",
        "mlp.fit(x_train_forward, y_train)\n",
        "\n",
        "predicted_fwd = mlp.predict(x_test_forward)\n",
        "accuracy_fwd = accuracy_score(y_test, predicted_fwd)\n",
        "precision_fwd, recall_fwd, f1score_fwd, _ = precision_recall_fscore_support(y_test, predicted_fwd, average='weighted')\n",
        "conf_matrix_fwd = confusion_matrix(y_test, predicted_fwd)\n",
        "# print(\"Accuracy_fwd:\", accuracy_fwd)\n",
        "# print(\"Precision_fwd:\", precision_fwd)\n",
        "# print(\"Recall_fwd:\", recall_fwd)\n",
        "# print(\"F1 Score_fwd:\", f1score_fwd)\n",
        "print(\"Confusion Matrix FWD:\")\n",
        "print(conf_matrix_fwd)\n",
        "\n",
        "#------------------------------------\n",
        "#PCA\n",
        "pca = PCA(n_components=6)\n",
        "pca.fit(x)\n",
        "x_train_PCA = pca.transform(x_train)\n",
        "x_test_PCA = pca.transform(x_test)\n",
        "mlp.fit(x_train_PCA, y_train)\n",
        "\n",
        "predicted_PCA = mlp.predict(x_test_PCA)\n",
        "accuracy_PCA = accuracy_score(y_test, predicted_PCA)\n",
        "precision_PCA, recall_PCA, f1score_PCA, _ = precision_recall_fscore_support(y_test, predicted_PCA, average='weighted')\n",
        "conf_matrix_PCA = confusion_matrix(y_test, predicted_PCA)\n",
        "# print(\"Accuracy_pca:\", accuracy_PCA)\n",
        "# print(\"Precision_pca:\", precision_PCA)\n",
        "# print(\"Recall_pca:\", recall_PCA)\n",
        "# print(\"F1 Score_pca:\", f1score_PCA)\n",
        "print(\"Confusion Matrix PCA:\")\n",
        "print(conf_matrix_PCA)\n",
        "\n",
        "#------------------------------------\n",
        "# Custom\n",
        "print(\"\")\n",
        "print(\"Custom\")\n",
        "print(\"\")\n",
        "\n",
        "mlp.fit(x_train, y_train)\n",
        "\n",
        "predicted = mlp.predict(x_test)\n",
        "accuracy = accuracy_score(y_test, predicted)\n",
        "precision, recall, f1score, _ = precision_recall_fscore_support(y_test, predicted, average='weighted')\n",
        "conf_matrix = confusion_matrix(y_test, predicted)\n",
        "# print(\"Accuracy:\", accuracy)\n",
        "# print(\"Precision:\", precision)\n",
        "# print(\"Recall:\", recall)\n",
        "# print(\"F1 Score:\", f1score)\n",
        "print(\"Confusion Matrix:\")\n",
        "print(conf_matrix)\n",
        "\n",
        "# -----------------------------------\n",
        "\n",
        "metrics = {\n",
        "    'ModeloMLP': [1, 2, 3],\n",
        "    'Selección de características': ['Forward selection', 'PCA', 'Custom'],\n",
        "    'Accuracy': [accuracy_fwd, accuracy_PCA, accuracy],\n",
        "    'Precision': [precision_fwd, precision_PCA, precision],\n",
        "    'Recall': [recall_fwd, recall_PCA, recall],\n",
        "    'F1-score': [f1score_fwd, f1score_PCA, f1score]\n",
        "}\n",
        "\n",
        "df = pd.DataFrame(metrics, columns=['ModeloMLP', 'Selección de características', 'Accuracy', 'Precision', 'Recall', 'F1-score'])\n",
        "\n",
        "print(df)"
      ],
      "metadata": {
        "colab": {
          "base_uri": "https://localhost:8080/"
        },
        "id": "dsDba749VCm7",
        "outputId": "c643db66-c351-450f-b8ab-3a51287e1bd8"
      },
      "execution_count": 34,
      "outputs": [
        {
          "output_type": "stream",
          "name": "stderr",
          "text": [
            "/usr/local/lib/python3.10/dist-packages/sklearn/feature_selection/_sequential.py:211: FutureWarning: Leaving `n_features_to_select` to None is deprecated in 1.0 and will become 'auto' in 1.3. To keep the same behaviour as with None (i.e. select half of the features) and avoid this warning, you should manually set `n_features_to_select='auto'` and set tol=None when creating an instance.\n",
            "  warnings.warn(\n",
            "/usr/local/lib/python3.10/dist-packages/sklearn/neural_network/_multilayer_perceptron.py:693: UserWarning: Training interrupted by user.\n",
            "  warnings.warn(\"Training interrupted by user.\")\n",
            "/usr/local/lib/python3.10/dist-packages/sklearn/neural_network/_multilayer_perceptron.py:693: UserWarning: Training interrupted by user.\n",
            "  warnings.warn(\"Training interrupted by user.\")\n",
            "/usr/local/lib/python3.10/dist-packages/sklearn/neural_network/_multilayer_perceptron.py:686: ConvergenceWarning: Stochastic Optimizer: Maximum iterations (200) reached and the optimization hasn't converged yet.\n",
            "  warnings.warn(\n",
            "/usr/local/lib/python3.10/dist-packages/sklearn/neural_network/_multilayer_perceptron.py:686: ConvergenceWarning: Stochastic Optimizer: Maximum iterations (200) reached and the optimization hasn't converged yet.\n",
            "  warnings.warn(\n",
            "/usr/local/lib/python3.10/dist-packages/sklearn/neural_network/_multilayer_perceptron.py:686: ConvergenceWarning: Stochastic Optimizer: Maximum iterations (200) reached and the optimization hasn't converged yet.\n",
            "  warnings.warn(\n",
            "/usr/local/lib/python3.10/dist-packages/sklearn/neural_network/_multilayer_perceptron.py:686: ConvergenceWarning: Stochastic Optimizer: Maximum iterations (200) reached and the optimization hasn't converged yet.\n",
            "  warnings.warn(\n",
            "/usr/local/lib/python3.10/dist-packages/sklearn/neural_network/_multilayer_perceptron.py:686: ConvergenceWarning: Stochastic Optimizer: Maximum iterations (200) reached and the optimization hasn't converged yet.\n",
            "  warnings.warn(\n",
            "/usr/local/lib/python3.10/dist-packages/sklearn/neural_network/_multilayer_perceptron.py:686: ConvergenceWarning: Stochastic Optimizer: Maximum iterations (200) reached and the optimization hasn't converged yet.\n",
            "  warnings.warn(\n",
            "/usr/local/lib/python3.10/dist-packages/sklearn/neural_network/_multilayer_perceptron.py:686: ConvergenceWarning: Stochastic Optimizer: Maximum iterations (200) reached and the optimization hasn't converged yet.\n",
            "  warnings.warn(\n",
            "/usr/local/lib/python3.10/dist-packages/sklearn/neural_network/_multilayer_perceptron.py:686: ConvergenceWarning: Stochastic Optimizer: Maximum iterations (200) reached and the optimization hasn't converged yet.\n",
            "  warnings.warn(\n",
            "/usr/local/lib/python3.10/dist-packages/sklearn/neural_network/_multilayer_perceptron.py:686: ConvergenceWarning: Stochastic Optimizer: Maximum iterations (200) reached and the optimization hasn't converged yet.\n",
            "  warnings.warn(\n",
            "/usr/local/lib/python3.10/dist-packages/sklearn/neural_network/_multilayer_perceptron.py:686: ConvergenceWarning: Stochastic Optimizer: Maximum iterations (200) reached and the optimization hasn't converged yet.\n",
            "  warnings.warn(\n",
            "/usr/local/lib/python3.10/dist-packages/sklearn/neural_network/_multilayer_perceptron.py:686: ConvergenceWarning: Stochastic Optimizer: Maximum iterations (200) reached and the optimization hasn't converged yet.\n",
            "  warnings.warn(\n",
            "/usr/local/lib/python3.10/dist-packages/sklearn/neural_network/_multilayer_perceptron.py:686: ConvergenceWarning: Stochastic Optimizer: Maximum iterations (200) reached and the optimization hasn't converged yet.\n",
            "  warnings.warn(\n",
            "/usr/local/lib/python3.10/dist-packages/sklearn/neural_network/_multilayer_perceptron.py:686: ConvergenceWarning: Stochastic Optimizer: Maximum iterations (200) reached and the optimization hasn't converged yet.\n",
            "  warnings.warn(\n",
            "/usr/local/lib/python3.10/dist-packages/sklearn/neural_network/_multilayer_perceptron.py:686: ConvergenceWarning: Stochastic Optimizer: Maximum iterations (200) reached and the optimization hasn't converged yet.\n",
            "  warnings.warn(\n",
            "/usr/local/lib/python3.10/dist-packages/sklearn/neural_network/_multilayer_perceptron.py:686: ConvergenceWarning: Stochastic Optimizer: Maximum iterations (200) reached and the optimization hasn't converged yet.\n",
            "  warnings.warn(\n",
            "/usr/local/lib/python3.10/dist-packages/sklearn/neural_network/_multilayer_perceptron.py:686: ConvergenceWarning: Stochastic Optimizer: Maximum iterations (200) reached and the optimization hasn't converged yet.\n",
            "  warnings.warn(\n",
            "/usr/local/lib/python3.10/dist-packages/sklearn/neural_network/_multilayer_perceptron.py:686: ConvergenceWarning: Stochastic Optimizer: Maximum iterations (200) reached and the optimization hasn't converged yet.\n",
            "  warnings.warn(\n",
            "/usr/local/lib/python3.10/dist-packages/sklearn/neural_network/_multilayer_perceptron.py:686: ConvergenceWarning: Stochastic Optimizer: Maximum iterations (200) reached and the optimization hasn't converged yet.\n",
            "  warnings.warn(\n",
            "/usr/local/lib/python3.10/dist-packages/sklearn/neural_network/_multilayer_perceptron.py:686: ConvergenceWarning: Stochastic Optimizer: Maximum iterations (200) reached and the optimization hasn't converged yet.\n",
            "  warnings.warn(\n",
            "/usr/local/lib/python3.10/dist-packages/sklearn/neural_network/_multilayer_perceptron.py:686: ConvergenceWarning: Stochastic Optimizer: Maximum iterations (200) reached and the optimization hasn't converged yet.\n",
            "  warnings.warn(\n",
            "/usr/local/lib/python3.10/dist-packages/sklearn/neural_network/_multilayer_perceptron.py:686: ConvergenceWarning: Stochastic Optimizer: Maximum iterations (200) reached and the optimization hasn't converged yet.\n",
            "  warnings.warn(\n",
            "/usr/local/lib/python3.10/dist-packages/sklearn/neural_network/_multilayer_perceptron.py:686: ConvergenceWarning: Stochastic Optimizer: Maximum iterations (200) reached and the optimization hasn't converged yet.\n",
            "  warnings.warn(\n",
            "/usr/local/lib/python3.10/dist-packages/sklearn/neural_network/_multilayer_perceptron.py:686: ConvergenceWarning: Stochastic Optimizer: Maximum iterations (200) reached and the optimization hasn't converged yet.\n",
            "  warnings.warn(\n",
            "/usr/local/lib/python3.10/dist-packages/sklearn/neural_network/_multilayer_perceptron.py:686: ConvergenceWarning: Stochastic Optimizer: Maximum iterations (200) reached and the optimization hasn't converged yet.\n",
            "  warnings.warn(\n",
            "/usr/local/lib/python3.10/dist-packages/sklearn/neural_network/_multilayer_perceptron.py:686: ConvergenceWarning: Stochastic Optimizer: Maximum iterations (200) reached and the optimization hasn't converged yet.\n",
            "  warnings.warn(\n",
            "/usr/local/lib/python3.10/dist-packages/sklearn/neural_network/_multilayer_perceptron.py:686: ConvergenceWarning: Stochastic Optimizer: Maximum iterations (200) reached and the optimization hasn't converged yet.\n",
            "  warnings.warn(\n",
            "/usr/local/lib/python3.10/dist-packages/sklearn/neural_network/_multilayer_perceptron.py:686: ConvergenceWarning: Stochastic Optimizer: Maximum iterations (200) reached and the optimization hasn't converged yet.\n",
            "  warnings.warn(\n",
            "/usr/local/lib/python3.10/dist-packages/sklearn/neural_network/_multilayer_perceptron.py:686: ConvergenceWarning: Stochastic Optimizer: Maximum iterations (200) reached and the optimization hasn't converged yet.\n",
            "  warnings.warn(\n",
            "/usr/local/lib/python3.10/dist-packages/sklearn/neural_network/_multilayer_perceptron.py:686: ConvergenceWarning: Stochastic Optimizer: Maximum iterations (200) reached and the optimization hasn't converged yet.\n",
            "  warnings.warn(\n",
            "/usr/local/lib/python3.10/dist-packages/sklearn/neural_network/_multilayer_perceptron.py:686: ConvergenceWarning: Stochastic Optimizer: Maximum iterations (200) reached and the optimization hasn't converged yet.\n",
            "  warnings.warn(\n",
            "/usr/local/lib/python3.10/dist-packages/sklearn/neural_network/_multilayer_perceptron.py:686: ConvergenceWarning: Stochastic Optimizer: Maximum iterations (200) reached and the optimization hasn't converged yet.\n",
            "  warnings.warn(\n",
            "/usr/local/lib/python3.10/dist-packages/sklearn/neural_network/_multilayer_perceptron.py:686: ConvergenceWarning: Stochastic Optimizer: Maximum iterations (200) reached and the optimization hasn't converged yet.\n",
            "  warnings.warn(\n",
            "/usr/local/lib/python3.10/dist-packages/sklearn/neural_network/_multilayer_perceptron.py:686: ConvergenceWarning: Stochastic Optimizer: Maximum iterations (200) reached and the optimization hasn't converged yet.\n",
            "  warnings.warn(\n",
            "/usr/local/lib/python3.10/dist-packages/sklearn/neural_network/_multilayer_perceptron.py:686: ConvergenceWarning: Stochastic Optimizer: Maximum iterations (200) reached and the optimization hasn't converged yet.\n",
            "  warnings.warn(\n",
            "/usr/local/lib/python3.10/dist-packages/sklearn/neural_network/_multilayer_perceptron.py:686: ConvergenceWarning: Stochastic Optimizer: Maximum iterations (200) reached and the optimization hasn't converged yet.\n",
            "  warnings.warn(\n",
            "/usr/local/lib/python3.10/dist-packages/sklearn/neural_network/_multilayer_perceptron.py:686: ConvergenceWarning: Stochastic Optimizer: Maximum iterations (200) reached and the optimization hasn't converged yet.\n",
            "  warnings.warn(\n",
            "/usr/local/lib/python3.10/dist-packages/sklearn/neural_network/_multilayer_perceptron.py:686: ConvergenceWarning: Stochastic Optimizer: Maximum iterations (200) reached and the optimization hasn't converged yet.\n",
            "  warnings.warn(\n",
            "/usr/local/lib/python3.10/dist-packages/sklearn/neural_network/_multilayer_perceptron.py:686: ConvergenceWarning: Stochastic Optimizer: Maximum iterations (200) reached and the optimization hasn't converged yet.\n",
            "  warnings.warn(\n",
            "/usr/local/lib/python3.10/dist-packages/sklearn/neural_network/_multilayer_perceptron.py:686: ConvergenceWarning: Stochastic Optimizer: Maximum iterations (200) reached and the optimization hasn't converged yet.\n",
            "  warnings.warn(\n",
            "/usr/local/lib/python3.10/dist-packages/sklearn/neural_network/_multilayer_perceptron.py:686: ConvergenceWarning: Stochastic Optimizer: Maximum iterations (200) reached and the optimization hasn't converged yet.\n",
            "  warnings.warn(\n",
            "/usr/local/lib/python3.10/dist-packages/sklearn/neural_network/_multilayer_perceptron.py:686: ConvergenceWarning: Stochastic Optimizer: Maximum iterations (200) reached and the optimization hasn't converged yet.\n",
            "  warnings.warn(\n",
            "/usr/local/lib/python3.10/dist-packages/sklearn/neural_network/_multilayer_perceptron.py:686: ConvergenceWarning: Stochastic Optimizer: Maximum iterations (200) reached and the optimization hasn't converged yet.\n",
            "  warnings.warn(\n",
            "/usr/local/lib/python3.10/dist-packages/sklearn/neural_network/_multilayer_perceptron.py:686: ConvergenceWarning: Stochastic Optimizer: Maximum iterations (200) reached and the optimization hasn't converged yet.\n",
            "  warnings.warn(\n",
            "/usr/local/lib/python3.10/dist-packages/sklearn/neural_network/_multilayer_perceptron.py:686: ConvergenceWarning: Stochastic Optimizer: Maximum iterations (200) reached and the optimization hasn't converged yet.\n",
            "  warnings.warn(\n",
            "/usr/local/lib/python3.10/dist-packages/sklearn/neural_network/_multilayer_perceptron.py:686: ConvergenceWarning: Stochastic Optimizer: Maximum iterations (200) reached and the optimization hasn't converged yet.\n",
            "  warnings.warn(\n",
            "/usr/local/lib/python3.10/dist-packages/sklearn/neural_network/_multilayer_perceptron.py:686: ConvergenceWarning: Stochastic Optimizer: Maximum iterations (200) reached and the optimization hasn't converged yet.\n",
            "  warnings.warn(\n",
            "/usr/local/lib/python3.10/dist-packages/sklearn/neural_network/_multilayer_perceptron.py:686: ConvergenceWarning: Stochastic Optimizer: Maximum iterations (200) reached and the optimization hasn't converged yet.\n",
            "  warnings.warn(\n"
          ]
        },
        {
          "output_type": "stream",
          "name": "stdout",
          "text": [
            "Características seleccionadas: [False False False  True  True False  True  True]\n"
          ]
        },
        {
          "output_type": "stream",
          "name": "stderr",
          "text": [
            "/usr/local/lib/python3.10/dist-packages/sklearn/neural_network/_multilayer_perceptron.py:686: ConvergenceWarning: Stochastic Optimizer: Maximum iterations (200) reached and the optimization hasn't converged yet.\n",
            "  warnings.warn(\n"
          ]
        },
        {
          "output_type": "stream",
          "name": "stdout",
          "text": [
            "Confusion Matrix FWD:\n",
            "[[3147   44  116]\n",
            " [   1 3311    1]\n",
            " [ 185    2 3093]]\n"
          ]
        },
        {
          "output_type": "stream",
          "name": "stderr",
          "text": [
            "/usr/local/lib/python3.10/dist-packages/sklearn/neural_network/_multilayer_perceptron.py:686: ConvergenceWarning: Stochastic Optimizer: Maximum iterations (200) reached and the optimization hasn't converged yet.\n",
            "  warnings.warn(\n"
          ]
        },
        {
          "output_type": "stream",
          "name": "stdout",
          "text": [
            "Confusion Matrix PCA:\n",
            "[[3161   40  106]\n",
            " [   4 3309    0]\n",
            " [ 204    3 3073]]\n",
            "\n",
            "Custom\n",
            "\n",
            "Confusion Matrix:\n",
            "[[3158   51   98]\n",
            " [   4 3308    1]\n",
            " [ 209    2 3069]]\n",
            "   ModeloMLP Selección de características  Accuracy  Precision    Recall  \\\n",
            "0          1            Forward selection  0.964747   0.964697  0.964747   \n",
            "1          2                          PCA  0.963939   0.964036  0.963939   \n",
            "2          3                       Custom  0.963131   0.963263  0.963131   \n",
            "\n",
            "   F1-score  \n",
            "0  0.964666  \n",
            "1  0.963872  \n",
            "2  0.963056  \n"
          ]
        }
      ]
    },
    {
      "cell_type": "code",
      "source": [
        "df"
      ],
      "metadata": {
        "colab": {
          "base_uri": "https://localhost:8080/",
          "height": 143
        },
        "id": "p-euoTJiRH1n",
        "outputId": "c032782b-fe77-496e-cba3-eb9cfaf9a18d"
      },
      "execution_count": 35,
      "outputs": [
        {
          "output_type": "execute_result",
          "data": {
            "text/plain": [
              "   ModeloMLP Selección de características  Accuracy  Precision    Recall  \\\n",
              "0          1            Forward selection  0.964747   0.964697  0.964747   \n",
              "1          2                          PCA  0.963939   0.964036  0.963939   \n",
              "2          3                       Custom  0.963131   0.963263  0.963131   \n",
              "\n",
              "   F1-score  \n",
              "0  0.964666  \n",
              "1  0.963872  \n",
              "2  0.963056  "
            ],
            "text/html": [
              "\n",
              "  <div id=\"df-786e634d-8519-4403-8f54-6df96e32da42\">\n",
              "    <div class=\"colab-df-container\">\n",
              "      <div>\n",
              "<style scoped>\n",
              "    .dataframe tbody tr th:only-of-type {\n",
              "        vertical-align: middle;\n",
              "    }\n",
              "\n",
              "    .dataframe tbody tr th {\n",
              "        vertical-align: top;\n",
              "    }\n",
              "\n",
              "    .dataframe thead th {\n",
              "        text-align: right;\n",
              "    }\n",
              "</style>\n",
              "<table border=\"1\" class=\"dataframe\">\n",
              "  <thead>\n",
              "    <tr style=\"text-align: right;\">\n",
              "      <th></th>\n",
              "      <th>ModeloMLP</th>\n",
              "      <th>Selección de características</th>\n",
              "      <th>Accuracy</th>\n",
              "      <th>Precision</th>\n",
              "      <th>Recall</th>\n",
              "      <th>F1-score</th>\n",
              "    </tr>\n",
              "  </thead>\n",
              "  <tbody>\n",
              "    <tr>\n",
              "      <th>0</th>\n",
              "      <td>1</td>\n",
              "      <td>Forward selection</td>\n",
              "      <td>0.964747</td>\n",
              "      <td>0.964697</td>\n",
              "      <td>0.964747</td>\n",
              "      <td>0.964666</td>\n",
              "    </tr>\n",
              "    <tr>\n",
              "      <th>1</th>\n",
              "      <td>2</td>\n",
              "      <td>PCA</td>\n",
              "      <td>0.963939</td>\n",
              "      <td>0.964036</td>\n",
              "      <td>0.963939</td>\n",
              "      <td>0.963872</td>\n",
              "    </tr>\n",
              "    <tr>\n",
              "      <th>2</th>\n",
              "      <td>3</td>\n",
              "      <td>Custom</td>\n",
              "      <td>0.963131</td>\n",
              "      <td>0.963263</td>\n",
              "      <td>0.963131</td>\n",
              "      <td>0.963056</td>\n",
              "    </tr>\n",
              "  </tbody>\n",
              "</table>\n",
              "</div>\n",
              "      <button class=\"colab-df-convert\" onclick=\"convertToInteractive('df-786e634d-8519-4403-8f54-6df96e32da42')\"\n",
              "              title=\"Convert this dataframe to an interactive table.\"\n",
              "              style=\"display:none;\">\n",
              "        \n",
              "  <svg xmlns=\"http://www.w3.org/2000/svg\" height=\"24px\"viewBox=\"0 0 24 24\"\n",
              "       width=\"24px\">\n",
              "    <path d=\"M0 0h24v24H0V0z\" fill=\"none\"/>\n",
              "    <path d=\"M18.56 5.44l.94 2.06.94-2.06 2.06-.94-2.06-.94-.94-2.06-.94 2.06-2.06.94zm-11 1L8.5 8.5l.94-2.06 2.06-.94-2.06-.94L8.5 2.5l-.94 2.06-2.06.94zm10 10l.94 2.06.94-2.06 2.06-.94-2.06-.94-.94-2.06-.94 2.06-2.06.94z\"/><path d=\"M17.41 7.96l-1.37-1.37c-.4-.4-.92-.59-1.43-.59-.52 0-1.04.2-1.43.59L10.3 9.45l-7.72 7.72c-.78.78-.78 2.05 0 2.83L4 21.41c.39.39.9.59 1.41.59.51 0 1.02-.2 1.41-.59l7.78-7.78 2.81-2.81c.8-.78.8-2.07 0-2.86zM5.41 20L4 18.59l7.72-7.72 1.47 1.35L5.41 20z\"/>\n",
              "  </svg>\n",
              "      </button>\n",
              "      \n",
              "  <style>\n",
              "    .colab-df-container {\n",
              "      display:flex;\n",
              "      flex-wrap:wrap;\n",
              "      gap: 12px;\n",
              "    }\n",
              "\n",
              "    .colab-df-convert {\n",
              "      background-color: #E8F0FE;\n",
              "      border: none;\n",
              "      border-radius: 50%;\n",
              "      cursor: pointer;\n",
              "      display: none;\n",
              "      fill: #1967D2;\n",
              "      height: 32px;\n",
              "      padding: 0 0 0 0;\n",
              "      width: 32px;\n",
              "    }\n",
              "\n",
              "    .colab-df-convert:hover {\n",
              "      background-color: #E2EBFA;\n",
              "      box-shadow: 0px 1px 2px rgba(60, 64, 67, 0.3), 0px 1px 3px 1px rgba(60, 64, 67, 0.15);\n",
              "      fill: #174EA6;\n",
              "    }\n",
              "\n",
              "    [theme=dark] .colab-df-convert {\n",
              "      background-color: #3B4455;\n",
              "      fill: #D2E3FC;\n",
              "    }\n",
              "\n",
              "    [theme=dark] .colab-df-convert:hover {\n",
              "      background-color: #434B5C;\n",
              "      box-shadow: 0px 1px 3px 1px rgba(0, 0, 0, 0.15);\n",
              "      filter: drop-shadow(0px 1px 2px rgba(0, 0, 0, 0.3));\n",
              "      fill: #FFFFFF;\n",
              "    }\n",
              "  </style>\n",
              "\n",
              "      <script>\n",
              "        const buttonEl =\n",
              "          document.querySelector('#df-786e634d-8519-4403-8f54-6df96e32da42 button.colab-df-convert');\n",
              "        buttonEl.style.display =\n",
              "          google.colab.kernel.accessAllowed ? 'block' : 'none';\n",
              "\n",
              "        async function convertToInteractive(key) {\n",
              "          const element = document.querySelector('#df-786e634d-8519-4403-8f54-6df96e32da42');\n",
              "          const dataTable =\n",
              "            await google.colab.kernel.invokeFunction('convertToInteractive',\n",
              "                                                     [key], {});\n",
              "          if (!dataTable) return;\n",
              "\n",
              "          const docLinkHtml = 'Like what you see? Visit the ' +\n",
              "            '<a target=\"_blank\" href=https://colab.research.google.com/notebooks/data_table.ipynb>data table notebook</a>'\n",
              "            + ' to learn more about interactive tables.';\n",
              "          element.innerHTML = '';\n",
              "          dataTable['output_type'] = 'display_data';\n",
              "          await google.colab.output.renderOutput(dataTable, element);\n",
              "          const docLink = document.createElement('div');\n",
              "          docLink.innerHTML = docLinkHtml;\n",
              "          element.appendChild(docLink);\n",
              "        }\n",
              "      </script>\n",
              "    </div>\n",
              "  </div>\n",
              "  "
            ]
          },
          "metadata": {},
          "execution_count": 35
        }
      ]
    },
    {
      "cell_type": "code",
      "source": [
        "svm = SVC(kernel='rbf', C=1, random_state=0)\n",
        "\n",
        "#------------------------------------\n",
        "#Forward Selection\n",
        "sfs = SequentialFeatureSelector(svm, scoring='accuracy', cv=5)\n",
        "\n",
        "sfs.fit(x_train, y_train)\n",
        "\n",
        "print(\"Características seleccionadas:\", sfs.get_support())\n",
        "\n",
        "x_train_forward = sfs.transform(x_train)\n",
        "x_test_forward = sfs.transform(x_test)\n",
        "\n",
        "svm.fit(x_train_forward, y_train)\n",
        "\n",
        "predicted_fwd = svm.predict(x_test_forward)\n",
        "accuracy_fwd = accuracy_score(y_test, predicted_fwd)\n",
        "precision_fwd, recall_fwd, f1score_fwd, _ = precision_recall_fscore_support(y_test, predicted_fwd, average='weighted')\n",
        "conf_matrix_fwd = confusion_matrix(y_test, predicted_fwd)\n",
        "# print(\"Accuracy_fwd:\", accuracy_fwd)\n",
        "# print(\"Precision_fwd:\", precision_fwd)\n",
        "# print(\"Recall_fwd:\", recall_fwd)\n",
        "# print(\"F1 Score_fwd:\", f1score_fwd)\n",
        "print(\"Confusion Matrix FWD:\")\n",
        "print(conf_matrix_fwd)\n",
        "\n",
        "#------------------------------------\n",
        "#PCA\n",
        "pca = PCA(n_components=6)\n",
        "pca.fit(x)\n",
        "x_train_PCA = pca.transform(x_train)\n",
        "x_test_PCA = pca.transform(x_test)\n",
        "svm.fit(x_train_PCA, y_train)\n",
        "\n",
        "predicted_PCA = svm.predict(x_test_PCA)\n",
        "accuracy_PCA = accuracy_score(y_test, predicted_PCA)\n",
        "precision_PCA, recall_PCA, f1score_PCA, _ = precision_recall_fscore_support(y_test, predicted_PCA, average='weighted')\n",
        "conf_matrix_PCA = confusion_matrix(y_test, predicted_PCA)\n",
        "# print(\"Accuracy_pca:\", accuracy_PCA)\n",
        "# print(\"Precision_pca:\", precision_PCA)\n",
        "# print(\"Recall_pca:\", recall_PCA)\n",
        "# print(\"F1 Score_pca:\", f1score_PCA)\n",
        "print(\"Confusion Matrix PCA:\")\n",
        "print(conf_matrix_PCA)\n",
        "\n",
        "#------------------------------------\n",
        "# Custom\n",
        "print(\"\")\n",
        "print(\"Custom:\")\n",
        "print(\"\")\n",
        "svm.fit(x_train,y_train)\n",
        "predicted = svm.predict(x_test)\n",
        "accuracy = accuracy_score(y_test, predicted)\n",
        "precision, recall, f1score, _ = precision_recall_fscore_support(y_test, predicted, average='weighted')\n",
        "conf_matrix = confusion_matrix(y_test, predicted)\n",
        "# print(\"Accuracy_pca:\", accuracy)\n",
        "# print(\"Precision_pca:\", precision)\n",
        "# print(\"Recall_pca:\", recall)\n",
        "# print(\"F1 Score_pca:\", f1score)\n",
        "print(\"Confusion Matrix:\")\n",
        "print(conf_matrix)\n",
        "\n",
        "# -----------------------------------\n",
        "\n",
        "metrics = {\n",
        "    'ModeloSVM': [1, 2, 3],\n",
        "    'Selección de características': ['Forward selection', 'PCA', 'Custom'],\n",
        "    'Accuracy': [accuracy_fwd, accuracy_PCA, accuracy],\n",
        "    'Precision': [precision_fwd, precision_PCA, precision],\n",
        "    'Recall': [recall_fwd, recall_PCA, recall],\n",
        "    'F1-score': [f1score_fwd, f1score_PCA, f1score]\n",
        "}\n",
        "\n",
        "df = pd.DataFrame(metrics, columns=['ModeloSVM', 'Selección de características', 'Accuracy', 'Precision', 'Recall', 'F1-score'])\n",
        "\n",
        "df"
      ],
      "metadata": {
        "colab": {
          "base_uri": "https://localhost:8080/",
          "height": 476
        },
        "id": "1BcCK7y4-GGK",
        "outputId": "dc207870-d7a0-43a2-ab9b-869b101a3b1e"
      },
      "execution_count": 36,
      "outputs": [
        {
          "output_type": "stream",
          "name": "stderr",
          "text": [
            "/usr/local/lib/python3.10/dist-packages/sklearn/feature_selection/_sequential.py:211: FutureWarning: Leaving `n_features_to_select` to None is deprecated in 1.0 and will become 'auto' in 1.3. To keep the same behaviour as with None (i.e. select half of the features) and avoid this warning, you should manually set `n_features_to_select='auto'` and set tol=None when creating an instance.\n",
            "  warnings.warn(\n"
          ]
        },
        {
          "output_type": "stream",
          "name": "stdout",
          "text": [
            "Características seleccionadas: [False False  True  True False False  True  True]\n",
            "Confusion Matrix FWD:\n",
            "[[3123   79  105]\n",
            " [   0 3312    1]\n",
            " [ 271    3 3006]]\n",
            "Confusion Matrix PCA:\n",
            "[[3036  206   65]\n",
            " [   0 3313    0]\n",
            " [ 254    9 3017]]\n",
            "\n",
            "Custom:\n",
            "\n",
            "Confusion Matrix:\n",
            "[[3036  206   65]\n",
            " [   0 3313    0]\n",
            " [ 249    9 3022]]\n"
          ]
        },
        {
          "output_type": "execute_result",
          "data": {
            "text/plain": [
              "   ModeloSVM Selección de características  Accuracy  Precision    Recall  \\\n",
              "0          1            Forward selection  0.953636   0.953958  0.953636   \n",
              "1          2                          PCA  0.946061   0.946830  0.946061   \n",
              "2          3                       Custom  0.946566   0.947310  0.946566   \n",
              "\n",
              "   F1-score  \n",
              "0  0.953481  \n",
              "1  0.945818  \n",
              "2  0.946325  "
            ],
            "text/html": [
              "\n",
              "  <div id=\"df-5cd7f235-7094-4ea7-8c99-1365aa7328e7\">\n",
              "    <div class=\"colab-df-container\">\n",
              "      <div>\n",
              "<style scoped>\n",
              "    .dataframe tbody tr th:only-of-type {\n",
              "        vertical-align: middle;\n",
              "    }\n",
              "\n",
              "    .dataframe tbody tr th {\n",
              "        vertical-align: top;\n",
              "    }\n",
              "\n",
              "    .dataframe thead th {\n",
              "        text-align: right;\n",
              "    }\n",
              "</style>\n",
              "<table border=\"1\" class=\"dataframe\">\n",
              "  <thead>\n",
              "    <tr style=\"text-align: right;\">\n",
              "      <th></th>\n",
              "      <th>ModeloSVM</th>\n",
              "      <th>Selección de características</th>\n",
              "      <th>Accuracy</th>\n",
              "      <th>Precision</th>\n",
              "      <th>Recall</th>\n",
              "      <th>F1-score</th>\n",
              "    </tr>\n",
              "  </thead>\n",
              "  <tbody>\n",
              "    <tr>\n",
              "      <th>0</th>\n",
              "      <td>1</td>\n",
              "      <td>Forward selection</td>\n",
              "      <td>0.953636</td>\n",
              "      <td>0.953958</td>\n",
              "      <td>0.953636</td>\n",
              "      <td>0.953481</td>\n",
              "    </tr>\n",
              "    <tr>\n",
              "      <th>1</th>\n",
              "      <td>2</td>\n",
              "      <td>PCA</td>\n",
              "      <td>0.946061</td>\n",
              "      <td>0.946830</td>\n",
              "      <td>0.946061</td>\n",
              "      <td>0.945818</td>\n",
              "    </tr>\n",
              "    <tr>\n",
              "      <th>2</th>\n",
              "      <td>3</td>\n",
              "      <td>Custom</td>\n",
              "      <td>0.946566</td>\n",
              "      <td>0.947310</td>\n",
              "      <td>0.946566</td>\n",
              "      <td>0.946325</td>\n",
              "    </tr>\n",
              "  </tbody>\n",
              "</table>\n",
              "</div>\n",
              "      <button class=\"colab-df-convert\" onclick=\"convertToInteractive('df-5cd7f235-7094-4ea7-8c99-1365aa7328e7')\"\n",
              "              title=\"Convert this dataframe to an interactive table.\"\n",
              "              style=\"display:none;\">\n",
              "        \n",
              "  <svg xmlns=\"http://www.w3.org/2000/svg\" height=\"24px\"viewBox=\"0 0 24 24\"\n",
              "       width=\"24px\">\n",
              "    <path d=\"M0 0h24v24H0V0z\" fill=\"none\"/>\n",
              "    <path d=\"M18.56 5.44l.94 2.06.94-2.06 2.06-.94-2.06-.94-.94-2.06-.94 2.06-2.06.94zm-11 1L8.5 8.5l.94-2.06 2.06-.94-2.06-.94L8.5 2.5l-.94 2.06-2.06.94zm10 10l.94 2.06.94-2.06 2.06-.94-2.06-.94-.94-2.06-.94 2.06-2.06.94z\"/><path d=\"M17.41 7.96l-1.37-1.37c-.4-.4-.92-.59-1.43-.59-.52 0-1.04.2-1.43.59L10.3 9.45l-7.72 7.72c-.78.78-.78 2.05 0 2.83L4 21.41c.39.39.9.59 1.41.59.51 0 1.02-.2 1.41-.59l7.78-7.78 2.81-2.81c.8-.78.8-2.07 0-2.86zM5.41 20L4 18.59l7.72-7.72 1.47 1.35L5.41 20z\"/>\n",
              "  </svg>\n",
              "      </button>\n",
              "      \n",
              "  <style>\n",
              "    .colab-df-container {\n",
              "      display:flex;\n",
              "      flex-wrap:wrap;\n",
              "      gap: 12px;\n",
              "    }\n",
              "\n",
              "    .colab-df-convert {\n",
              "      background-color: #E8F0FE;\n",
              "      border: none;\n",
              "      border-radius: 50%;\n",
              "      cursor: pointer;\n",
              "      display: none;\n",
              "      fill: #1967D2;\n",
              "      height: 32px;\n",
              "      padding: 0 0 0 0;\n",
              "      width: 32px;\n",
              "    }\n",
              "\n",
              "    .colab-df-convert:hover {\n",
              "      background-color: #E2EBFA;\n",
              "      box-shadow: 0px 1px 2px rgba(60, 64, 67, 0.3), 0px 1px 3px 1px rgba(60, 64, 67, 0.15);\n",
              "      fill: #174EA6;\n",
              "    }\n",
              "\n",
              "    [theme=dark] .colab-df-convert {\n",
              "      background-color: #3B4455;\n",
              "      fill: #D2E3FC;\n",
              "    }\n",
              "\n",
              "    [theme=dark] .colab-df-convert:hover {\n",
              "      background-color: #434B5C;\n",
              "      box-shadow: 0px 1px 3px 1px rgba(0, 0, 0, 0.15);\n",
              "      filter: drop-shadow(0px 1px 2px rgba(0, 0, 0, 0.3));\n",
              "      fill: #FFFFFF;\n",
              "    }\n",
              "  </style>\n",
              "\n",
              "      <script>\n",
              "        const buttonEl =\n",
              "          document.querySelector('#df-5cd7f235-7094-4ea7-8c99-1365aa7328e7 button.colab-df-convert');\n",
              "        buttonEl.style.display =\n",
              "          google.colab.kernel.accessAllowed ? 'block' : 'none';\n",
              "\n",
              "        async function convertToInteractive(key) {\n",
              "          const element = document.querySelector('#df-5cd7f235-7094-4ea7-8c99-1365aa7328e7');\n",
              "          const dataTable =\n",
              "            await google.colab.kernel.invokeFunction('convertToInteractive',\n",
              "                                                     [key], {});\n",
              "          if (!dataTable) return;\n",
              "\n",
              "          const docLinkHtml = 'Like what you see? Visit the ' +\n",
              "            '<a target=\"_blank\" href=https://colab.research.google.com/notebooks/data_table.ipynb>data table notebook</a>'\n",
              "            + ' to learn more about interactive tables.';\n",
              "          element.innerHTML = '';\n",
              "          dataTable['output_type'] = 'display_data';\n",
              "          await google.colab.output.renderOutput(dataTable, element);\n",
              "          const docLink = document.createElement('div');\n",
              "          docLink.innerHTML = docLinkHtml;\n",
              "          element.appendChild(docLink);\n",
              "        }\n",
              "      </script>\n",
              "    </div>\n",
              "  </div>\n",
              "  "
            ]
          },
          "metadata": {},
          "execution_count": 36
        }
      ]
    },
    {
      "cell_type": "markdown",
      "source": [
        "# Best models"
      ],
      "metadata": {
        "id": "K3rLD4_GdJFI"
      }
    },
    {
      "cell_type": "code",
      "source": [
        "#0.969192 \t0.969499 \t0.969192 \t0.969171\n",
        "metrics = {\n",
        "    'Modelo': [\"Gradient boosting\", \"MLPClassifier\", \"SVM\"],\n",
        "    'Selección de características': ['Custom', 'Forward selection', 'Forward selection'],\n",
        "    'Accuracy': [0.969192, 0.964747, 0.953636],\n",
        "    'Precision': [0.969499, 0.964697, 0.953958],\n",
        "    'Recall': [0.969192, 0.964747, 0.953636],\n",
        "    'F1-score': [0.969171, 0.964666, 0.953481]\n",
        "}\n",
        "\n",
        "df = pd.DataFrame(metrics, columns=['Modelo', 'Selección de características', 'Accuracy', 'Precision', 'Recall', 'F1-score'])\n",
        "df"
      ],
      "metadata": {
        "colab": {
          "base_uri": "https://localhost:8080/",
          "height": 143
        },
        "id": "RdA4rUiyY81S",
        "outputId": "2e131e11-767a-4307-ee8e-159f94422326"
      },
      "execution_count": 38,
      "outputs": [
        {
          "output_type": "execute_result",
          "data": {
            "text/plain": [
              "              Modelo Selección de características  Accuracy  Precision  \\\n",
              "0  Gradient boosting                       Custom  0.969192   0.969499   \n",
              "1      MLPClassifier            Forward selection  0.964747   0.964697   \n",
              "2                SVM            Forward selection  0.953636   0.953958   \n",
              "\n",
              "     Recall  F1-score  \n",
              "0  0.969192  0.969171  \n",
              "1  0.964747  0.964666  \n",
              "2  0.953636  0.953481  "
            ],
            "text/html": [
              "\n",
              "  <div id=\"df-c96d827c-4a5a-4d29-af72-564e5eff7dc7\">\n",
              "    <div class=\"colab-df-container\">\n",
              "      <div>\n",
              "<style scoped>\n",
              "    .dataframe tbody tr th:only-of-type {\n",
              "        vertical-align: middle;\n",
              "    }\n",
              "\n",
              "    .dataframe tbody tr th {\n",
              "        vertical-align: top;\n",
              "    }\n",
              "\n",
              "    .dataframe thead th {\n",
              "        text-align: right;\n",
              "    }\n",
              "</style>\n",
              "<table border=\"1\" class=\"dataframe\">\n",
              "  <thead>\n",
              "    <tr style=\"text-align: right;\">\n",
              "      <th></th>\n",
              "      <th>Modelo</th>\n",
              "      <th>Selección de características</th>\n",
              "      <th>Accuracy</th>\n",
              "      <th>Precision</th>\n",
              "      <th>Recall</th>\n",
              "      <th>F1-score</th>\n",
              "    </tr>\n",
              "  </thead>\n",
              "  <tbody>\n",
              "    <tr>\n",
              "      <th>0</th>\n",
              "      <td>Gradient boosting</td>\n",
              "      <td>Custom</td>\n",
              "      <td>0.969192</td>\n",
              "      <td>0.969499</td>\n",
              "      <td>0.969192</td>\n",
              "      <td>0.969171</td>\n",
              "    </tr>\n",
              "    <tr>\n",
              "      <th>1</th>\n",
              "      <td>MLPClassifier</td>\n",
              "      <td>Forward selection</td>\n",
              "      <td>0.964747</td>\n",
              "      <td>0.964697</td>\n",
              "      <td>0.964747</td>\n",
              "      <td>0.964666</td>\n",
              "    </tr>\n",
              "    <tr>\n",
              "      <th>2</th>\n",
              "      <td>SVM</td>\n",
              "      <td>Forward selection</td>\n",
              "      <td>0.953636</td>\n",
              "      <td>0.953958</td>\n",
              "      <td>0.953636</td>\n",
              "      <td>0.953481</td>\n",
              "    </tr>\n",
              "  </tbody>\n",
              "</table>\n",
              "</div>\n",
              "      <button class=\"colab-df-convert\" onclick=\"convertToInteractive('df-c96d827c-4a5a-4d29-af72-564e5eff7dc7')\"\n",
              "              title=\"Convert this dataframe to an interactive table.\"\n",
              "              style=\"display:none;\">\n",
              "        \n",
              "  <svg xmlns=\"http://www.w3.org/2000/svg\" height=\"24px\"viewBox=\"0 0 24 24\"\n",
              "       width=\"24px\">\n",
              "    <path d=\"M0 0h24v24H0V0z\" fill=\"none\"/>\n",
              "    <path d=\"M18.56 5.44l.94 2.06.94-2.06 2.06-.94-2.06-.94-.94-2.06-.94 2.06-2.06.94zm-11 1L8.5 8.5l.94-2.06 2.06-.94-2.06-.94L8.5 2.5l-.94 2.06-2.06.94zm10 10l.94 2.06.94-2.06 2.06-.94-2.06-.94-.94-2.06-.94 2.06-2.06.94z\"/><path d=\"M17.41 7.96l-1.37-1.37c-.4-.4-.92-.59-1.43-.59-.52 0-1.04.2-1.43.59L10.3 9.45l-7.72 7.72c-.78.78-.78 2.05 0 2.83L4 21.41c.39.39.9.59 1.41.59.51 0 1.02-.2 1.41-.59l7.78-7.78 2.81-2.81c.8-.78.8-2.07 0-2.86zM5.41 20L4 18.59l7.72-7.72 1.47 1.35L5.41 20z\"/>\n",
              "  </svg>\n",
              "      </button>\n",
              "      \n",
              "  <style>\n",
              "    .colab-df-container {\n",
              "      display:flex;\n",
              "      flex-wrap:wrap;\n",
              "      gap: 12px;\n",
              "    }\n",
              "\n",
              "    .colab-df-convert {\n",
              "      background-color: #E8F0FE;\n",
              "      border: none;\n",
              "      border-radius: 50%;\n",
              "      cursor: pointer;\n",
              "      display: none;\n",
              "      fill: #1967D2;\n",
              "      height: 32px;\n",
              "      padding: 0 0 0 0;\n",
              "      width: 32px;\n",
              "    }\n",
              "\n",
              "    .colab-df-convert:hover {\n",
              "      background-color: #E2EBFA;\n",
              "      box-shadow: 0px 1px 2px rgba(60, 64, 67, 0.3), 0px 1px 3px 1px rgba(60, 64, 67, 0.15);\n",
              "      fill: #174EA6;\n",
              "    }\n",
              "\n",
              "    [theme=dark] .colab-df-convert {\n",
              "      background-color: #3B4455;\n",
              "      fill: #D2E3FC;\n",
              "    }\n",
              "\n",
              "    [theme=dark] .colab-df-convert:hover {\n",
              "      background-color: #434B5C;\n",
              "      box-shadow: 0px 1px 3px 1px rgba(0, 0, 0, 0.15);\n",
              "      filter: drop-shadow(0px 1px 2px rgba(0, 0, 0, 0.3));\n",
              "      fill: #FFFFFF;\n",
              "    }\n",
              "  </style>\n",
              "\n",
              "      <script>\n",
              "        const buttonEl =\n",
              "          document.querySelector('#df-c96d827c-4a5a-4d29-af72-564e5eff7dc7 button.colab-df-convert');\n",
              "        buttonEl.style.display =\n",
              "          google.colab.kernel.accessAllowed ? 'block' : 'none';\n",
              "\n",
              "        async function convertToInteractive(key) {\n",
              "          const element = document.querySelector('#df-c96d827c-4a5a-4d29-af72-564e5eff7dc7');\n",
              "          const dataTable =\n",
              "            await google.colab.kernel.invokeFunction('convertToInteractive',\n",
              "                                                     [key], {});\n",
              "          if (!dataTable) return;\n",
              "\n",
              "          const docLinkHtml = 'Like what you see? Visit the ' +\n",
              "            '<a target=\"_blank\" href=https://colab.research.google.com/notebooks/data_table.ipynb>data table notebook</a>'\n",
              "            + ' to learn more about interactive tables.';\n",
              "          element.innerHTML = '';\n",
              "          dataTable['output_type'] = 'display_data';\n",
              "          await google.colab.output.renderOutput(dataTable, element);\n",
              "          const docLink = document.createElement('div');\n",
              "          docLink.innerHTML = docLinkHtml;\n",
              "          element.appendChild(docLink);\n",
              "        }\n",
              "      </script>\n",
              "    </div>\n",
              "  </div>\n",
              "  "
            ]
          },
          "metadata": {},
          "execution_count": 38
        }
      ]
    }
  ]
}